{
 "cells": [
  {
   "cell_type": "code",
   "execution_count": 20,
   "metadata": {},
   "outputs": [],
   "source": [
    "from itertools import combinations\n",
    "import numpy as np\n",
    "import pandas as pd\n",
    "# Sample data: 22 values\n",
    "values = [1, 2, 3, 4, 5, 6, 7, 8, 9, 10, 11, 12, 13, 14, 15, 16, 17, 18, 19, 20, 21, 22]\n",
    "# Generate all combinations of pairs\n",
    "lotes = 2\n",
    "saco_por_lote = 11\n",
    "data = \"./data/data.xlsx\"\n",
    "nombre_hoja = \"Maxisaco\""
   ]
  },
  {
   "cell_type": "code",
   "execution_count": 21,
   "metadata": {},
   "outputs": [
    {
     "ename": "SyntaxError",
     "evalue": "invalid syntax (__init__.py, line 1187)",
     "output_type": "error",
     "traceback": [
      "Traceback \u001b[1;36m(most recent call last)\u001b[0m:\n",
      "  File \u001b[0;32m\"C:\\ProgramData\\Anaconda3\\lib\\site-packages\\IPython\\core\\interactiveshell.py\"\u001b[0m, line \u001b[0;32m3418\u001b[0m, in \u001b[0;35mrun_code\u001b[0m\n    exec(code_obj, self.user_global_ns, self.user_ns)\n",
      "  File \u001b[0;32m\"<ipython-input-21-512473994470>\"\u001b[0m, line \u001b[0;32m1\u001b[0m, in \u001b[0;35m<module>\u001b[0m\n    df = pd.read_excel(r\"./data/data.xlsx\",sheet_name = nombre_hoja)\n",
      "  File \u001b[0;32m\"C:\\ProgramData\\Anaconda3\\lib\\site-packages\\pandas\\util\\_decorators.py\"\u001b[0m, line \u001b[0;32m296\u001b[0m, in \u001b[0;35mwrapper\u001b[0m\n    return func(*args, **kwargs)\n",
      "  File \u001b[0;32m\"C:\\ProgramData\\Anaconda3\\lib\\site-packages\\pandas\\io\\excel\\_base.py\"\u001b[0m, line \u001b[0;32m304\u001b[0m, in \u001b[0;35mread_excel\u001b[0m\n    io = ExcelFile(io, engine=engine)\n",
      "  File \u001b[0;32m\"C:\\ProgramData\\Anaconda3\\lib\\site-packages\\pandas\\io\\excel\\_base.py\"\u001b[0m, line \u001b[0;32m867\u001b[0m, in \u001b[0;35m__init__\u001b[0m\n    self._reader = self._engines[engine](self._io)\n",
      "  File \u001b[0;32m\"C:\\ProgramData\\Anaconda3\\lib\\site-packages\\pandas\\io\\excel\\_xlrd.py\"\u001b[0m, line \u001b[0;32m21\u001b[0m, in \u001b[0;35m__init__\u001b[0m\n    import_optional_dependency(\"xlrd\", extra=err_msg)\n",
      "  File \u001b[0;32m\"C:\\ProgramData\\Anaconda3\\lib\\site-packages\\pandas\\compat\\_optional.py\"\u001b[0m, line \u001b[0;32m107\u001b[0m, in \u001b[0;35mimport_optional_dependency\u001b[0m\n    module = importlib.import_module(name)\n",
      "  File \u001b[0;32m\"C:\\ProgramData\\Anaconda3\\lib\\importlib\\__init__.py\"\u001b[0m, line \u001b[0;32m127\u001b[0m, in \u001b[0;35mimport_module\u001b[0m\n    return _bootstrap._gcd_import(name[level:], package, level)\n",
      "  File \u001b[0;32m\"<frozen importlib._bootstrap>\"\u001b[0m, line \u001b[0;32m1014\u001b[0m, in \u001b[0;35m_gcd_import\u001b[0m\n",
      "  File \u001b[0;32m\"<frozen importlib._bootstrap>\"\u001b[0m, line \u001b[0;32m991\u001b[0m, in \u001b[0;35m_find_and_load\u001b[0m\n",
      "  File \u001b[0;32m\"<frozen importlib._bootstrap>\"\u001b[0m, line \u001b[0;32m975\u001b[0m, in \u001b[0;35m_find_and_load_unlocked\u001b[0m\n",
      "  File \u001b[0;32m\"<frozen importlib._bootstrap>\"\u001b[0m, line \u001b[0;32m671\u001b[0m, in \u001b[0;35m_load_unlocked\u001b[0m\n",
      "  File \u001b[0;32m\"<frozen importlib._bootstrap_external>\"\u001b[0m, line \u001b[0;32m779\u001b[0m, in \u001b[0;35mexec_module\u001b[0m\n",
      "  File \u001b[0;32m\"<frozen importlib._bootstrap_external>\"\u001b[0m, line \u001b[0;32m916\u001b[0m, in \u001b[0;35mget_code\u001b[0m\n",
      "  File \u001b[0;32m\"<frozen importlib._bootstrap_external>\"\u001b[0m, line \u001b[0;32m846\u001b[0m, in \u001b[0;35msource_to_code\u001b[0m\n",
      "\u001b[1;36m  File \u001b[1;32m\"<frozen importlib._bootstrap>\"\u001b[1;36m, line \u001b[1;32m219\u001b[1;36m, in \u001b[1;35m_call_with_frames_removed\u001b[1;36m\u001b[0m\n",
      "\u001b[1;36m  File \u001b[1;32m\"C:\\Users\\kzep\\AppData\\Roaming\\Python\\Python38\\site-packages\\xlrd\\__init__.py\"\u001b[1;36m, line \u001b[1;32m1187\u001b[0m\n\u001b[1;33m    print \"EXTERNSHEET(b7-):\"\u001b[0m\n\u001b[1;37m          ^\u001b[0m\n\u001b[1;31mSyntaxError\u001b[0m\u001b[1;31m:\u001b[0m invalid syntax\n"
     ]
    }
   ],
   "source": [
    "df = pd.read_excel(r\"./data/data.xlsx\",sheet_name = nombre_hoja)\n"
   ]
  },
  {
   "cell_type": "code",
   "execution_count": null,
   "metadata": {},
   "outputs": [],
   "source": []
  },
  {
   "cell_type": "code",
   "execution_count": 20,
   "metadata": {},
   "outputs": [],
   "source": [
    "\n",
    "\n",
    "def GENERADOR_LOTES(valores,lotes,saco_por_lote):\n",
    "    combinatorics_master = []\n",
    "    for lote in range(lotes):\n",
    "        if lote==0:\n",
    "            pairs = list(combinations(values, saco_por_lote))\n",
    "        else:\n",
    "            for saco in pairs:\n",
    "                combinatorics = []\n",
    "                values_aux = values.copy()\n",
    "                values_aux = [x for x in values_aux if x not in saco]\n",
    "                pairs_2 = list(combinations(values_aux, saco_por_lote))\n",
    "                for saco_2 in pairs_2:\n",
    "                    combinatorics.append(saco + saco_2)\n",
    "                combinatorics_master.append(combinatorics)\n",
    "            pairs = combinatorics_master\n",
    "    return pairs"
   ]
  },
  {
   "cell_type": "code",
   "execution_count": 22,
   "metadata": {},
   "outputs": [],
   "source": [
    "pairs = GENERADOR_LOTES(values,lotes,saco_por_lote)"
   ]
  },
  {
   "cell_type": "code",
   "execution_count": 23,
   "metadata": {},
   "outputs": [
    {
     "data": {
      "text/plain": [
       "705432"
      ]
     },
     "execution_count": 23,
     "metadata": {},
     "output_type": "execute_result"
    }
   ],
   "source": [
    "len(pairs)"
   ]
  },
  {
   "cell_type": "code",
   "execution_count": null,
   "metadata": {},
   "outputs": [],
   "source": []
  }
 ],
 "metadata": {
  "kernelspec": {
   "display_name": "Python 3",
   "language": "python",
   "name": "python3"
  },
  "language_info": {
   "codemirror_mode": {
    "name": "ipython",
    "version": 3
   },
   "file_extension": ".py",
   "mimetype": "text/x-python",
   "name": "python",
   "nbconvert_exporter": "python",
   "pygments_lexer": "ipython3",
   "version": "3.8.5"
  }
 },
 "nbformat": 4,
 "nbformat_minor": 4
}
